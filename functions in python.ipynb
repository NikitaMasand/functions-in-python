{
 "cells": [
  {
   "cell_type": "markdown",
   "metadata": {},
   "source": [
    "## Functions"
   ]
  },
  {
   "cell_type": "raw",
   "metadata": {},
   "source": [
    "travel(source,destination):\n",
    "     print(\"I am going from \",source,\" to\",destination)\n",
    "   \n",
    "Will you write the same code again and again for morning and evening college travel? No, right? You will simply change the parameters accordingly.\n",
    "So basically you are reusing the code without repeating yourself\n",
    "\n",
    "Also, you have already used slice or strip without writing code for them. Imagine yourself writing the logic and code again and again for such functions that are needed everyday. Now you know why we write functions\n",
    "\n",
    "Functions are some instructions packaged together to perform a specific task. Functions allow us to reuse the code without repition. You can print something using a function or you can pass in some data to function, it evaluates and returns some data.\n",
    "To create function we use def keyword\n",
    "After writing function name we put paranthesis which are used to pass the parameters. When we pass in the actual value for those parameters while calling the function, they are called as arguements"
   ]
  },
  {
   "cell_type": "code",
   "execution_count": 106,
   "metadata": {},
   "outputs": [
    {
     "ename": "SyntaxError",
     "evalue": "unexpected EOF while parsing (<ipython-input-106-52f589a7db8d>, line 2)",
     "output_type": "error",
     "traceback": [
      "\u001b[1;36m  File \u001b[1;32m\"<ipython-input-106-52f589a7db8d>\"\u001b[1;36m, line \u001b[1;32m2\u001b[0m\n\u001b[1;33m    \u001b[0m\n\u001b[1;37m    ^\u001b[0m\n\u001b[1;31mSyntaxError\u001b[0m\u001b[1;31m:\u001b[0m unexpected EOF while parsing\n"
     ]
    }
   ],
   "source": [
    "def tomIsMonday():\n",
    "    "
   ]
  },
  {
   "cell_type": "raw",
   "metadata": {},
   "source": [
    "As above you can't leave the function code completely blank. But what if for now you just create the function and you want to add the functionality to the function later. Just write pass for this as shown, using it won't throw any errors for keeping the function code blank"
   ]
  },
  {
   "cell_type": "code",
   "execution_count": 107,
   "metadata": {},
   "outputs": [
    {
     "name": "stdout",
     "output_type": "stream",
     "text": [
      "None\n",
      "<function tomIsMonday at 0x000001705C1FF9D8>\n"
     ]
    }
   ],
   "source": [
    "def tomIsMonday():\n",
    "    pass\n",
    "\n",
    "#to execute or call the function \n",
    "tomIsMonday()\n",
    "\n",
    "#Everyfunction by default returns None\n",
    "print(tomIsMonday()) \n",
    "#this will mention the function itself at certain position when written without paranthesis\n",
    "print(tomIsMonday)"
   ]
  },
  {
   "cell_type": "code",
   "execution_count": 108,
   "metadata": {},
   "outputs": [
    {
     "name": "stdout",
     "output_type": "stream",
     "text": [
      "Oh no!\n",
      "None\n"
     ]
    }
   ],
   "source": [
    "def tomIsMonday():\n",
    "    print(\"Oh no!\")\n",
    "\n",
    "\n",
    "print(tomIsMonday())\n",
    "#why is None printed?"
   ]
  },
  {
   "cell_type": "code",
   "execution_count": 109,
   "metadata": {},
   "outputs": [
    {
     "name": "stdout",
     "output_type": "stream",
     "text": [
      "Printing Oh no!\n",
      "Returning Oh no!\n"
     ]
    }
   ],
   "source": [
    "#What is the difference between print and return in the function?\n",
    "def tomIsMondayy():\n",
    "    print(\"Printing Oh no!\")\n",
    "    \n",
    "    \n",
    "def tomIsMonday():\n",
    "    return \"Returning Oh no!\"\n",
    "\n",
    "tomIsMondayy()\n",
    "a = tomIsMonday()\n",
    "print(a)"
   ]
  },
  {
   "cell_type": "code",
   "execution_count": 110,
   "metadata": {},
   "outputs": [
    {
     "name": "stdout",
     "output_type": "stream",
     "text": [
      "Yaya\n"
     ]
    }
   ],
   "source": [
    "#parameters of the function\n",
    "def tomIsMonday(andHoliday):\n",
    "    if andHoliday:\n",
    "        return \"Yaya\"\n",
    "    else:\n",
    "        return \"Oh no!\"\n",
    "     \n",
    "        \n",
    "x = tomIsMonday(\"true\")\n",
    "print(x)"
   ]
  },
  {
   "cell_type": "code",
   "execution_count": 111,
   "metadata": {},
   "outputs": [
    {
     "name": "stdout",
     "output_type": "stream",
     "text": [
      "before:  cpp is nice\n",
      "after:  python is nice\n"
     ]
    }
   ],
   "source": [
    "#giving default values to parameters\n",
    "def func(lang = \"python\"):\n",
    "    return '{} is nice'.format(lang)\n",
    "\n",
    "print(\"before: \",func(\"cpp\"))\n",
    "print(\"after: \",func())"
   ]
  },
  {
   "cell_type": "code",
   "execution_count": 112,
   "metadata": {},
   "outputs": [
    {
     "name": "stdout",
     "output_type": "stream",
     "text": [
      "1 2 3 4 "
     ]
    }
   ],
   "source": [
    "# *args\n",
    "#allowing the number of arbitrary positional arguements\n",
    "def acceptList(*args):\n",
    "    for arg in args:\n",
    "        print(arg, end = ' ')\n",
    "\n",
    "acceptList(1,2,3,4)"
   ]
  },
  {
   "cell_type": "code",
   "execution_count": 113,
   "metadata": {},
   "outputs": [
    {
     "name": "stdout",
     "output_type": "stream",
     "text": [
      "x:5 y:8\n",
      "x:5 y:8\n",
      "x:8 y:5\n"
     ]
    }
   ],
   "source": [
    "#What are positional and keyword arguements?\n",
    "#when you don't mention any keyword while writing the arguements, you are obviously dependent on the\n",
    "#position of the arguements like here:\n",
    "def coordinates(x,y):\n",
    "    print(\"x:{} y:{}\".format(x,y))\n",
    "\n",
    "coordinates(5,8)\n",
    "#Here you are dependent on the position of 5 and 8 as that is showing you that x is 5 and so on\n",
    "#That is why these are positional arguements\n",
    "#To make this more readable and flexible we use keyword arguements\n",
    "coordinates(x = 5, y = 8)\n",
    "coordinates(y = 5, x = 8) #This is also completely fine \n",
    "#and these are arguements defined by keywords not positions"
   ]
  },
  {
   "cell_type": "code",
   "execution_count": 114,
   "metadata": {},
   "outputs": [
    {
     "name": "stdout",
     "output_type": "stream",
     "text": [
      "('Math', 'Art')\n",
      "{'name': 'Nikita', 'id': 171081054}\n"
     ]
    }
   ],
   "source": [
    "#*args and *kwargs us to accept an arbitrary number of positional and keyword arguements\n",
    "def student_info(*args, **kwargs):\n",
    "    print(args)\n",
    "    print(kwargs)\n",
    "    \n",
    "student_info('Math','Art',name = \"Nikita\", id = 171081054)"
   ]
  },
  {
   "cell_type": "raw",
   "metadata": {},
   "source": [
    "args is a tuple with all of the positional arguements\n",
    "kwargs is a dictionary with the keyword arguements\n",
    "When a function call is used with * or **, what it actually is doing is unpack the sequence or dictionary and pass those values in the function one by one. "
   ]
  },
  {
   "cell_type": "code",
   "execution_count": 115,
   "metadata": {},
   "outputs": [
    {
     "name": "stdout",
     "output_type": "stream",
     "text": [
      "(('DS', 'Java'), {'name': 'Nikita', 'id': 171081054})\n",
      "{}\n"
     ]
    }
   ],
   "source": [
    "courses = ('DS','Java') #making a tuple\n",
    "info = {\n",
    "    'name': 'Nikita',\n",
    "    'id' : 171081054\n",
    "} #making a dictionary\n",
    "\n",
    "\n",
    "student_info(courses,info)"
   ]
  },
  {
   "cell_type": "raw",
   "metadata": {},
   "source": [
    "What just happened? tuple and dict was passed in as a positional arguement. Thus keyword arguement is empty. In order to avoid this we unpack them and then send it"
   ]
  },
  {
   "cell_type": "code",
   "execution_count": 116,
   "metadata": {},
   "outputs": [
    {
     "name": "stdout",
     "output_type": "stream",
     "text": [
      "('DS', 'Java')\n",
      "{'name': 'Nikita', 'id': 171081054}\n"
     ]
    }
   ],
   "source": [
    "student_info(*courses,**info)"
   ]
  },
  {
   "cell_type": "code",
   "execution_count": 117,
   "metadata": {},
   "outputs": [
    {
     "name": "stdout",
     "output_type": "stream",
     "text": [
      "{'original cake': 'Happy', 'emoji cake': 'sad'}\n"
     ]
    }
   ],
   "source": [
    "#you can return more than one value for a function using tuple, list or dict\n",
    "def cake():\n",
    "    return ({\"original cake\" : \"Happy\",\n",
    "              \"emoji cake\" : \"sad\"})\n",
    "\n",
    "d = cake()\n",
    "print(d)"
   ]
  },
  {
   "cell_type": "code",
   "execution_count": 118,
   "metadata": {},
   "outputs": [
    {
     "name": "stdout",
     "output_type": "stream",
     "text": [
      "From: 0, 0\n",
      "To: 0, 1\n"
     ]
    }
   ],
   "source": [
    "#Example \n",
    "#Referred this from A simple explanation of Python function arguments, keywords, *args, and **kwargs\n",
    "#By Sebastiaan and found it helpful. \n",
    "def move(x,y,direction,distance = 1):\n",
    "    if direction == 'up':\n",
    "        y += distance\n",
    "    elif direction == 'down':\n",
    "        y -= distance\n",
    "    elif direction == 'left':\n",
    "        x -= distance\n",
    "    elif direction == 'right':\n",
    "        x += distance\n",
    "    else:\n",
    "        print(\"invalid direction\")\n",
    "        return\n",
    "    return x,y\n",
    "    \n",
    "x,y = 0,0\n",
    "print(\"From: %d, %d\" % (x,y))\n",
    "x, y = move(x,y,'up',1) #arguements passed by order: positional\n",
    "print(\"To: %d, %d\" % (x,y))"
   ]
  },
  {
   "cell_type": "code",
   "execution_count": 119,
   "metadata": {},
   "outputs": [
    {
     "name": "stdout",
     "output_type": "stream",
     "text": [
      "From: 0, 1\n",
      "To: 0, 2\n"
     ]
    }
   ],
   "source": [
    "print(\"From: %d, %d\" % (x,y))\n",
    "x, y = move(x,y, distance = 1, direction = 'up') #refering by name, keyword arguements\n",
    "print(\"To: %d, %d\" % (x,y))"
   ]
  },
  {
   "cell_type": "code",
   "execution_count": 120,
   "metadata": {},
   "outputs": [
    {
     "ename": "SyntaxError",
     "evalue": "positional argument follows keyword argument (<ipython-input-120-9843812c79fc>, line 1)",
     "output_type": "error",
     "traceback": [
      "\u001b[1;36m  File \u001b[1;32m\"<ipython-input-120-9843812c79fc>\"\u001b[1;36m, line \u001b[1;32m1\u001b[0m\n\u001b[1;33m    x, y = move(x, distance = 1, y, direction = 'up')\u001b[0m\n\u001b[1;37m                                ^\u001b[0m\n\u001b[1;31mSyntaxError\u001b[0m\u001b[1;31m:\u001b[0m positional argument follows keyword argument\n"
     ]
    }
   ],
   "source": [
    "x, y = move(x, distance = 1, y, direction = 'up')\n",
    "#positional arguement follows keyword arguement as mentioned in the error because otherwise\n",
    "#it's confusing for the positions of arguements"
   ]
  },
  {
   "cell_type": "code",
   "execution_count": 121,
   "metadata": {},
   "outputs": [
    {
     "ename": "SyntaxError",
     "evalue": "non-default argument follows default argument (<ipython-input-121-9e974999c196>, line 3)",
     "output_type": "error",
     "traceback": [
      "\u001b[1;36m  File \u001b[1;32m\"<ipython-input-121-9e974999c196>\"\u001b[1;36m, line \u001b[1;32m3\u001b[0m\n\u001b[1;33m    def demo(x = 1, y):\u001b[0m\n\u001b[1;37m            ^\u001b[0m\n\u001b[1;31mSyntaxError\u001b[0m\u001b[1;31m:\u001b[0m non-default argument follows default argument\n"
     ]
    }
   ],
   "source": [
    "#All the arguements without default value must come before all the arguements with default value\n",
    "#Arguements with default value are called keywords\n",
    "def demo(x = 1, y):\n",
    "    pass"
   ]
  },
  {
   "cell_type": "code",
   "execution_count": 122,
   "metadata": {},
   "outputs": [],
   "source": [
    "#takes a list of direction\n",
    "def move_more(x,y,directions):\n",
    "    for direction in directions:\n",
    "        x, y = move(x, y , direction)\n",
    "    return x,y"
   ]
  },
  {
   "cell_type": "code",
   "execution_count": 123,
   "metadata": {},
   "outputs": [],
   "source": [
    "x, y = move_more(0, 0, ['up','right'])"
   ]
  },
  {
   "cell_type": "code",
   "execution_count": 124,
   "metadata": {},
   "outputs": [
    {
     "name": "stdout",
     "output_type": "stream",
     "text": [
      "To: 1, 1\n"
     ]
    }
   ],
   "source": [
    "print(\"To: %d, %d\" % (x,y))"
   ]
  },
  {
   "cell_type": "code",
   "execution_count": 125,
   "metadata": {},
   "outputs": [
    {
     "name": "stdout",
     "output_type": "stream",
     "text": [
      "To: 2, 2\n"
     ]
    }
   ],
   "source": [
    "#defining move_more again but this time with the help of *args and **kwargs\n",
    "def move_more(x,y,*directions, **kwargs):\n",
    "    for direction in directions:\n",
    "        x, y = move(x, y , direction, **kwargs)\n",
    "    return x,y\n",
    "\n",
    "x, y = move_more(0, 0,'up','right',distance = 2)\n",
    "print(\"To: %d, %d\" % (x,y))"
   ]
  },
  {
   "cell_type": "raw",
   "metadata": {},
   "source": [
    "Next we will see what happens when a list is modified inside a function"
   ]
  },
  {
   "cell_type": "code",
   "execution_count": 126,
   "metadata": {},
   "outputs": [
    {
     "name": "stdout",
     "output_type": "stream",
     "text": [
      "2\n",
      "3\n",
      "4\n",
      "list returned by function:  [1, 2, 3]\n"
     ]
    }
   ],
   "source": [
    "\n",
    "def operate(listt):\n",
    "    for i in listt:\n",
    "        i = i+1\n",
    "        print(i)\n",
    "    return listt\n",
    "\n",
    "print(\"list returned by function: \",operate([1,2,3]))"
   ]
  },
  {
   "cell_type": "code",
   "execution_count": 127,
   "metadata": {},
   "outputs": [
    {
     "name": "stdout",
     "output_type": "stream",
     "text": [
      "list returned by function:  [2, 3, 4]\n"
     ]
    }
   ],
   "source": [
    "def operate(listt):\n",
    "    for i in range(len(listt)):\n",
    "        listt[i] = listt[i]+1\n",
    "    return listt\n",
    "\n",
    "print(\"list returned by function: \", operate([1,2,3]))"
   ]
  },
  {
   "cell_type": "markdown",
   "metadata": {},
   "source": [
    "# Generators"
   ]
  },
  {
   "cell_type": "raw",
   "metadata": {},
   "source": [
    "A function can operate on multiple values of a list and return the list after modification\n",
    "If your function contains atleast one yield keyword, it's a generator function\n",
    "return: returns the value and the function stops\n",
    "yield: returns the value function suspends at that point and the instance/state where it stopped is saved and when the function is called again it resumes from that point"
   ]
  },
  {
   "cell_type": "code",
   "execution_count": 128,
   "metadata": {},
   "outputs": [
    {
     "name": "stdout",
     "output_type": "stream",
     "text": [
      "<generator object func at 0x000001705C239A98>\n",
      "a\n",
      "a\n"
     ]
    }
   ],
   "source": [
    "def func():\n",
    "    yield 'a'\n",
    "    yield 'b'\n",
    "\n",
    "#Generator function returns the iterator object \n",
    "#This is because generators don't hold entire result in memory, it yields one result when called.\n",
    "#It's waiting for you to call and it will give the first value\n",
    "print(func())\n",
    "print(next(func()))\n",
    "print(next(func()))\n",
    "#here everytime func() is called the iterator obj is not saved thus we should store that in x first \n",
    "#and then iterate x which is saved"
   ]
  },
  {
   "cell_type": "code",
   "execution_count": 129,
   "metadata": {},
   "outputs": [
    {
     "name": "stdout",
     "output_type": "stream",
     "text": [
      "a\n",
      "function suspends\n",
      "b\n"
     ]
    }
   ],
   "source": [
    "x = func()\n",
    "#next method is used to give the next value in iteration\n",
    "print(next(x))\n",
    "print(\"function suspends\")\n",
    "print(next(x))"
   ]
  },
  {
   "cell_type": "code",
   "execution_count": 130,
   "metadata": {},
   "outputs": [
    {
     "ename": "StopIteration",
     "evalue": "",
     "output_type": "error",
     "traceback": [
      "\u001b[1;31m---------------------------------------------------------------------------\u001b[0m",
      "\u001b[1;31mStopIteration\u001b[0m                             Traceback (most recent call last)",
      "\u001b[1;32m<ipython-input-130-ff675a2ee99e>\u001b[0m in \u001b[0;36m<module>\u001b[1;34m\u001b[0m\n\u001b[1;32m----> 1\u001b[1;33m \u001b[0mprint\u001b[0m\u001b[1;33m(\u001b[0m\u001b[0mnext\u001b[0m\u001b[1;33m(\u001b[0m\u001b[0mx\u001b[0m\u001b[1;33m)\u001b[0m\u001b[1;33m)\u001b[0m\u001b[1;33m\u001b[0m\u001b[1;33m\u001b[0m\u001b[0m\n\u001b[0m",
      "\u001b[1;31mStopIteration\u001b[0m: "
     ]
    }
   ],
   "source": [
    "print(next(x))"
   ]
  },
  {
   "cell_type": "code",
   "execution_count": 131,
   "metadata": {},
   "outputs": [
    {
     "name": "stdout",
     "output_type": "stream",
     "text": [
      "a\n",
      "b\n"
     ]
    }
   ],
   "source": [
    "#StopIteration exception is raised when the generator is exhausted and you have called the next method\n",
    "# __iter()__ and __next()__ method are automatically implemented in generators\n",
    "#we can also iterate generators using for loops but this will return the values continuously\n",
    "for value in func():\n",
    "    print(value)"
   ]
  },
  {
   "cell_type": "code",
   "execution_count": 132,
   "metadata": {},
   "outputs": [
    {
     "name": "stdout",
     "output_type": "stream",
     "text": [
      "list returned by function:  [2, 3, 4]\n",
      "2 3 4\n"
     ]
    }
   ],
   "source": [
    "#we will try to use generator here\n",
    "def operate(listt):\n",
    "    for i in range(len(listt)):\n",
    "        listt[i] = listt[i]+1\n",
    "    return listt\n",
    "\n",
    "print(\"list returned by function: \", operate([1,2,3]))\n",
    "\n",
    "def operate(listt):\n",
    "    for i in range(len(listt)):\n",
    "        listt[i] = listt[i]+1\n",
    "        yield listt[i]\n",
    "        \n",
    "        \n",
    "o = operate([1,2,3])\n",
    "print(next(o), end = ' ')\n",
    "print(next(o), end = ' ')\n",
    "print(next(o))"
   ]
  },
  {
   "cell_type": "code",
   "execution_count": 133,
   "metadata": {},
   "outputs": [],
   "source": [
    "#improvement in performance in terms of memory and execution time in comparison to list"
   ]
  }
 ],
 "metadata": {
  "kernelspec": {
   "display_name": "Python 3",
   "language": "python",
   "name": "python3"
  },
  "language_info": {
   "codemirror_mode": {
    "name": "ipython",
    "version": 3
   },
   "file_extension": ".py",
   "mimetype": "text/x-python",
   "name": "python",
   "nbconvert_exporter": "python",
   "pygments_lexer": "ipython3",
   "version": "3.6.7"
  }
 },
 "nbformat": 4,
 "nbformat_minor": 2
}
